{
 "cells": [
  {
   "cell_type": "markdown",
   "id": "66342aba-a09f-4d2a-852f-692beaad140c",
   "metadata": {},
   "source": [
    "### QUESTION"
   ]
  },
  {
   "cell_type": "markdown",
   "id": "5bc71d18-324b-40a4-bc0c-2917d5401080",
   "metadata": {},
   "source": [
    "[Question 2](https://adventofcode.com/2023/day/1#part2)"
   ]
  },
  {
   "cell_type": "code",
   "execution_count": 1,
   "id": "c41ac0b1-6686-4723-85f7-61b1e27b08f8",
   "metadata": {},
   "outputs": [],
   "source": [
    "num_str_map = {\n",
    "    'one': '1'\n",
    "    ,'two': '2'\n",
    "    ,'three': '3'\n",
    "    ,'four': '4'\n",
    "    ,'five': '5'\n",
    "    ,'six': '6'\n",
    "    ,'seven': '7'\n",
    "    ,'eight': '8'\n",
    "    ,'nine': '9'\n",
    "}\n",
    "\n",
    "num_str_beginning = set([x[0] for x in num_str_map])\n",
    "\n",
    "\n",
    "def find_calibration_value_new(garbage_str: str) -> int:\n",
    "    '''\n",
    "    find first and last digit iterating over string\n",
    "    '''\n",
    "    first_d, last_d, indx = None, None, 0\n",
    "\n",
    "    while indx < len(garbage_str):\n",
    "\n",
    "        # check if numeric\n",
    "        if garbage_str[indx].isnumeric():\n",
    "\n",
    "            if not first_d:\n",
    "                first_d = garbage_str[indx]\n",
    "            last_d = garbage_str[indx]\n",
    "\n",
    "        # check if alpha is the start of a number string\n",
    "        elif garbage_str[indx] in num_str_beginning:\n",
    "            beginning_indx = indx\n",
    "            curr_indx = indx + 1\n",
    "\n",
    "            # num strings can only be less than 6 characters\n",
    "            while curr_indx < len(garbage_str) and curr_indx < beginning_indx + 5:\n",
    "                if garbage_str[beginning_indx:curr_indx+1] in num_str_map:\n",
    "                    if not first_d:\n",
    "                        first_d = num_str_map.get(garbage_str[beginning_indx:curr_indx+1])\n",
    "                    last_d = num_str_map.get(garbage_str[beginning_indx:curr_indx+1])\n",
    "                    # indx = curr_indx - 1\n",
    "                    break\n",
    "                curr_indx += 1\n",
    "\n",
    "        indx += 1\n",
    "\n",
    "    return int(first_d + last_d)\n",
    "\n"
   ]
  },
  {
   "cell_type": "markdown",
   "id": "4a5ab1cb-e95d-4eff-a9e1-307772ccfddb",
   "metadata": {},
   "source": [
    "#### TEST"
   ]
  },
  {
   "cell_type": "code",
   "execution_count": 2,
   "id": "430a543b-2520-414e-995d-48f94e5c0046",
   "metadata": {},
   "outputs": [
    {
     "name": "stdout",
     "output_type": "stream",
     "text": [
      "Correct answer\n"
     ]
    }
   ],
   "source": [
    "test_garbage_list = [\n",
    "    'two1nine'\n",
    "    ,'eightwothree'\n",
    "    ,'abcone2threexyz'\n",
    "    ,'xtwone3four'\n",
    "    ,'4nineeightseven2'\n",
    "    ,'zoneight234'\n",
    "    ,'7pqrstsixteen'\n",
    "    ,'fiveseven4eightwolq'\n",
    "]\n",
    "\n",
    "expected_result = 281 + 52\n",
    "\n",
    "result = 0\n",
    "\n",
    "for garbage_str in test_garbage_list:\n",
    "    result += find_calibration_value_new(garbage_str)\n",
    "\n",
    "try :\n",
    "    assert result == expected_result\n",
    "    print(f\"Correct answer\")\n",
    "except AssertionError:\n",
    "    print(f\"{expected_result = } {result= }\")\n",
    "    print(\"result Too High\" if result > expected_result else \"result Too Low\")"
   ]
  },
  {
   "cell_type": "markdown",
   "id": "e67bf7c7-34f3-4172-af8a-3732717069dd",
   "metadata": {},
   "source": [
    "#### ACTUAL"
   ]
  },
  {
   "cell_type": "code",
   "execution_count": 3,
   "id": "7899da63-4b4b-4311-91be-10fed7ebbb1c",
   "metadata": {},
   "outputs": [
    {
     "name": "stdout",
     "output_type": "stream",
     "text": [
      "54980\n"
     ]
    }
   ],
   "source": [
    "result = 0\n",
    "with open(\"day1_0_input.txt\", \"r\") as file:\n",
    "    for line in file:\n",
    "        val = find_calibration_value_new(line)\n",
    "        result += val\n",
    "\n",
    "print(result)"
   ]
  },
  {
   "cell_type": "code",
   "execution_count": null,
   "id": "16c59c23-5ed5-4f1c-825e-26cf40bba820",
   "metadata": {},
   "outputs": [],
   "source": []
  }
 ],
 "metadata": {
  "kernelspec": {
   "display_name": "Python 3 (ipykernel)",
   "language": "python",
   "name": "python3"
  },
  "language_info": {
   "codemirror_mode": {
    "name": "ipython",
    "version": 3
   },
   "file_extension": ".py",
   "mimetype": "text/x-python",
   "name": "python",
   "nbconvert_exporter": "python",
   "pygments_lexer": "ipython3",
   "version": "3.8.2"
  }
 },
 "nbformat": 4,
 "nbformat_minor": 5
}
