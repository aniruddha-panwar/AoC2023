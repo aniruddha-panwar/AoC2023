{
 "cells": [
  {
   "cell_type": "markdown",
   "id": "7633db73-5653-4043-8217-7a54d91b644d",
   "metadata": {},
   "source": [
    "### QUESTION"
   ]
  },
  {
   "cell_type": "markdown",
   "id": "7b35a426-c91c-4775-9fea-7d63c42abda0",
   "metadata": {},
   "source": [
    "\n",
    "[Question 1](https://adventofcode.com/2023/day/1)"
   ]
  },
  {
   "cell_type": "code",
   "execution_count": 1,
   "id": "0f14d06a-8d91-4fac-bfe3-fd50a3e1c214",
   "metadata": {},
   "outputs": [],
   "source": [
    "from functools import reduce"
   ]
  },
  {
   "cell_type": "code",
   "execution_count": 2,
   "id": "85976ae4-6428-44f5-be96-8669a7c9d3f0",
   "metadata": {},
   "outputs": [],
   "source": [
    "def find_calibration_value(garbage_string: str) -> int:\n",
    "    left, right = 0, len(garbage_string) - 1\n",
    "\n",
    "    while left <= right:\n",
    "        if not garbage_string[left].isnumeric():\n",
    "            left += 1\n",
    "            continue\n",
    "        if not garbage_string[right].isnumeric():\n",
    "            right -= 1\n",
    "            continue\n",
    "        break\n",
    "\n",
    "    return int(garbage_string[left]+garbage_string[right])\n",
    "\n"
   ]
  },
  {
   "cell_type": "markdown",
   "id": "f5aa7adb-c775-40d5-a9d7-2a0f33b183b2",
   "metadata": {},
   "source": [
    "#### TEST"
   ]
  },
  {
   "cell_type": "code",
   "execution_count": 3,
   "id": "fe932cea-4e3c-44e6-a46b-efcee35ac287",
   "metadata": {},
   "outputs": [
    {
     "data": {
      "text/plain": [
       "142"
      ]
     },
     "execution_count": 3,
     "metadata": {},
     "output_type": "execute_result"
    }
   ],
   "source": [
    "test_garbage = [\n",
    "    '1abc2'\n",
    "    ,'pqr3stu8vwx'\n",
    "    ,'a1b2c3d4e5f'\n",
    "    ,'treb7uchet'\n",
    "]\n",
    "\n",
    "def add_two(x, y): return x+y\n",
    "\n",
    "reduce(add_two,list(map(find_calibration_value, test_garbage)))"
   ]
  },
  {
   "cell_type": "markdown",
   "id": "eb98f740-7781-434b-abe8-8ae10c1236f5",
   "metadata": {},
   "source": [
    "#### ACTUAL"
   ]
  },
  {
   "cell_type": "code",
   "execution_count": 4,
   "id": "8385bb15-f321-465f-bc8a-20bc165ee49d",
   "metadata": {},
   "outputs": [
    {
     "name": "stdout",
     "output_type": "stream",
     "text": [
      "55816\n"
     ]
    }
   ],
   "source": [
    "sum = 0\n",
    "with open(\"day1_0_input.txt\", \"r\") as file:\n",
    "    for line in file:\n",
    "        sum += find_calibration_value(line)\n",
    "\n",
    "print(sum)"
   ]
  }
 ],
 "metadata": {
  "kernelspec": {
   "display_name": "Python 3 (ipykernel)",
   "language": "python",
   "name": "python3"
  },
  "language_info": {
   "codemirror_mode": {
    "name": "ipython",
    "version": 3
   },
   "file_extension": ".py",
   "mimetype": "text/x-python",
   "name": "python",
   "nbconvert_exporter": "python",
   "pygments_lexer": "ipython3",
   "version": "3.8.2"
  }
 },
 "nbformat": 4,
 "nbformat_minor": 5
}
