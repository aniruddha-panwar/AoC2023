{
 "cells": [
  {
   "cell_type": "markdown",
   "id": "410abe00-993a-4630-9e36-4f34620b8683",
   "metadata": {},
   "source": [
    "### QUESTION"
   ]
  },
  {
   "cell_type": "markdown",
   "id": "d005b51c-e1da-4596-919b-0bba61567ddc",
   "metadata": {},
   "source": [
    "[Part 1](https://adventofcode.com/2023/day/2)"
   ]
  },
  {
   "cell_type": "code",
   "execution_count": 1,
   "id": "f14239a7-acd2-4076-b9d4-899c2cffa48a",
   "metadata": {},
   "outputs": [],
   "source": [
    "def parse_string(input_line:str) -> None:\n",
    "\n",
    "    game_info = input_line.split(':')\n",
    "    game_info[0]=int(game_info[0].replace('Game ',''))\n",
    "\n",
    "\n",
    "    game_id = game_info[0]\n",
    "    color_counter = [0,0,0] #count for red, green, blue\n",
    "    \n",
    "    color_groups = game_info[1].split(';')\n",
    "\n",
    "    for color_group in color_groups:\n",
    "        color_counts = color_group.split(',')\n",
    "\n",
    "        for color_count in color_counts:\n",
    "            count, color = color_count.strip().split()\n",
    "            count = int(count)\n",
    "\n",
    "            color_counter[0] = count if color=='red' and count>color_counter[0] else color_counter[0]\n",
    "            color_counter[1] = count if color=='green' and count>color_counter[1] else color_counter[1]\n",
    "            color_counter[2] = count if color=='blue' and count>color_counter[2] else color_counter[2]\n",
    "\n",
    "    return game_id, color_counter\n",
    "\n",
    "\n",
    "\n",
    "\n",
    "max_limits = [12,13,14] #12 red, 13 green, 14 blue max cubes allowed in a valid game"
   ]
  },
  {
   "cell_type": "markdown",
   "id": "f6d4d4e6-ebb8-491f-a108-e0ceedb752d7",
   "metadata": {},
   "source": [
    "#### TEST"
   ]
  },
  {
   "cell_type": "code",
   "execution_count": 2,
   "id": "11c51f3c-30cc-48e1-b3e4-d15c55a424d9",
   "metadata": {},
   "outputs": [
    {
     "name": "stdout",
     "output_type": "stream",
     "text": [
      "8\n"
     ]
    }
   ],
   "source": [
    "test_input = [\n",
    "'Game 1: 3 blue, 4 red; 1 red, 2 green, 6 blue; 2 green'\n",
    ",'Game 2: 1 blue, 2 green; 3 green, 4 blue, 1 red; 1 green, 1 blue'\n",
    ",'Game 3: 8 green, 6 blue, 20 red; 5 blue, 4 red, 13 green; 5 green, 1 red'\n",
    ",'Game 4: 1 green, 3 red, 6 blue; 3 green, 6 red; 3 green, 15 blue, 14 red'\n",
    ",'Game 5: 6 red, 1 blue, 3 green; 2 blue, 1 red, 2 green'\n",
    "]\n",
    "\n",
    "result = 0\n",
    "\n",
    "for line in test_input:\n",
    "    game_id, game_cubes = parse_string(line)\n",
    "    result += game_id if all(x<=y for x,y in zip(game_cubes, max_limits)) else 0\n",
    "\n",
    "print(result)"
   ]
  },
  {
   "cell_type": "markdown",
   "id": "558d5d76-473f-48b9-bf92-77b463c4aa03",
   "metadata": {},
   "source": [
    "#### ACTUAL"
   ]
  },
  {
   "cell_type": "code",
   "execution_count": 3,
   "id": "5d9484e3-692e-4bd5-907b-63f46f033cdd",
   "metadata": {},
   "outputs": [
    {
     "name": "stdout",
     "output_type": "stream",
     "text": [
      "2237\n"
     ]
    }
   ],
   "source": [
    "result = 0\n",
    "\n",
    "with open(\"day2_0_input.txt\", \"r\") as f:\n",
    "    for line in f:\n",
    "        game_id, game_cubes = parse_string(line)\n",
    "\n",
    "        result += game_id if all(x<=y for x,y in zip(game_cubes, max_limits)) else 0\n",
    "            \n",
    "\n",
    "print(result)"
   ]
  },
  {
   "cell_type": "code",
   "execution_count": null,
   "id": "51ceb7bb-203b-4edd-a3f0-77b95a08976f",
   "metadata": {},
   "outputs": [],
   "source": []
  }
 ],
 "metadata": {
  "kernelspec": {
   "display_name": "Python 3 (ipykernel)",
   "language": "python",
   "name": "python3"
  },
  "language_info": {
   "codemirror_mode": {
    "name": "ipython",
    "version": 3
   },
   "file_extension": ".py",
   "mimetype": "text/x-python",
   "name": "python",
   "nbconvert_exporter": "python",
   "pygments_lexer": "ipython3",
   "version": "3.8.2"
  }
 },
 "nbformat": 4,
 "nbformat_minor": 5
}
