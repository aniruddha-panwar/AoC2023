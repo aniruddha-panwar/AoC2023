{
 "cells": [
  {
   "cell_type": "markdown",
   "id": "d83d2c59-bd3d-4411-ae0c-5313d0647de1",
   "metadata": {},
   "source": [
    "### QUESTION"
   ]
  },
  {
   "cell_type": "markdown",
   "id": "fe3c63fd-0cd8-49be-8e6b-9fcafce28e3e",
   "metadata": {},
   "source": [
    "[Part 2](https://adventofcode.com/2023/day/2#part2)"
   ]
  },
  {
   "cell_type": "code",
   "execution_count": 2,
   "id": "ee09cdf1-f3ee-40d0-aabe-8a22276dd956",
   "metadata": {},
   "outputs": [],
   "source": [
    "def parse_string(input_line:str) -> None:\n",
    "\n",
    "    game_info = input_line.split(':')\n",
    "    game_info[0]=int(game_info[0].replace('Game ',''))\n",
    "\n",
    "\n",
    "    # game_id = game_info[0]\n",
    "    color_counter = [0,0,0] #count for red, green, blue\n",
    "    \n",
    "    color_groups = game_info[1].split(';')\n",
    "\n",
    "    for color_group in color_groups:\n",
    "        color_counts = color_group.split(',')\n",
    "\n",
    "        for color_count in color_counts:\n",
    "            count, color = color_count.strip().split()\n",
    "            count = int(count)\n",
    "\n",
    "            color_counter[0] = count if color=='red' and count>color_counter[0] else color_counter[0]\n",
    "            color_counter[1] = count if color=='green' and count>color_counter[1] else color_counter[1]\n",
    "            color_counter[2] = count if color=='blue' and count>color_counter[2] else color_counter[2]\n",
    "\n",
    "    return color_counter\n",
    "\n"
   ]
  },
  {
   "cell_type": "markdown",
   "id": "db7929cb-7d01-4215-a3a0-2c9d806e3dab",
   "metadata": {},
   "source": [
    "#### TEST"
   ]
  },
  {
   "cell_type": "code",
   "execution_count": 5,
   "id": "8e9892a4-1d3f-4a1e-89d1-076a5cec31e5",
   "metadata": {},
   "outputs": [
    {
     "name": "stdout",
     "output_type": "stream",
     "text": [
      "2286\n"
     ]
    }
   ],
   "source": [
    "test_input = [\n",
    "'Game 1: 3 blue, 4 red; 1 red, 2 green, 6 blue; 2 green'\n",
    ",'Game 2: 1 blue, 2 green; 3 green, 4 blue, 1 red; 1 green, 1 blue'\n",
    ",'Game 3: 8 green, 6 blue, 20 red; 5 blue, 4 red, 13 green; 5 green, 1 red'\n",
    ",'Game 4: 1 green, 3 red, 6 blue; 3 green, 6 red; 3 green, 15 blue, 14 red'\n",
    ",'Game 5: 6 red, 1 blue, 3 green; 2 blue, 1 red, 2 green'\n",
    "]\n",
    "\n",
    "result = 0\n",
    "\n",
    "for line in test_input:\n",
    "    game_cubes = parse_string(line)\n",
    "    result += (game_cubes[0]*game_cubes[1]*game_cubes[2])\n",
    "\n",
    "print(result)"
   ]
  },
  {
   "cell_type": "markdown",
   "id": "429f2543-b150-4acb-bde3-7f8e0a09fdd1",
   "metadata": {},
   "source": [
    "#### ACTUAL"
   ]
  },
  {
   "cell_type": "code",
   "execution_count": 6,
   "id": "0699a0cb-4065-4c25-bcf2-eb5f348f1f7e",
   "metadata": {},
   "outputs": [
    {
     "name": "stdout",
     "output_type": "stream",
     "text": [
      "66681\n"
     ]
    }
   ],
   "source": [
    "result = 0\n",
    "\n",
    "with open(\"day2_0_input.txt\", \"r\") as f:\n",
    "    for line in f:\n",
    "        game_cubes = parse_string(line)\n",
    "        result += (game_cubes[0]*game_cubes[1]*game_cubes[2])\n",
    "            \n",
    "\n",
    "print(result)"
   ]
  },
  {
   "cell_type": "code",
   "execution_count": null,
   "id": "57262f01-a17f-4dca-a737-c25c5ae2a5f2",
   "metadata": {},
   "outputs": [],
   "source": []
  }
 ],
 "metadata": {
  "kernelspec": {
   "display_name": "Python 3 (ipykernel)",
   "language": "python",
   "name": "python3"
  },
  "language_info": {
   "codemirror_mode": {
    "name": "ipython",
    "version": 3
   },
   "file_extension": ".py",
   "mimetype": "text/x-python",
   "name": "python",
   "nbconvert_exporter": "python",
   "pygments_lexer": "ipython3",
   "version": "3.8.2"
  }
 },
 "nbformat": 4,
 "nbformat_minor": 5
}
